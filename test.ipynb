{
 "cells": [
  {
   "cell_type": "markdown",
   "metadata": {},
   "source": [
    "## Purpose\n",
    "In this notebook I will illustrate how you can use the ChatGPT API to build a question and answer system.\n"
   ]
  },
  {
   "cell_type": "markdown",
   "metadata": {},
   "source": [
    "## Setup\n",
    "\n",
    "This cell imports the necessary modules and libraries to use the OpenAI API. Specifically, it imports `os`, `openai`, and `load_dotenv` from the `dotenv` library. \n",
    "\n",
    "`os` is a module that provides a way of interacting with the operating system. `openai` is the Python client for the OpenAI API, which allows you to interact with OpenAI's GPT models. `load_dotenv` is a function that loads environment variables from a `.env` file into `os.environ`, which allows you to access them in your code."
   ]
  },
  {
   "cell_type": "code",
   "execution_count": 28,
   "metadata": {},
   "outputs": [],
   "source": [
    "import os\n",
    "import openai\n",
    "from dotenv import load_dotenv"
   ]
  },
  {
   "cell_type": "markdown",
   "metadata": {},
   "source": [
    "This code block imports the `load_dotenv()` function from the `dotenv` library, which loads environment variables from a `.env` file into `os.environ`. It then sets the `openai.organization` and `openai.api_key` variables to the values of the `OPENAI_ORGANISATION` and `OPENAI_API_KEY` environment variables, respectively, using the `os.getenv()` function. This allows the OpenAI API to authenticate the user and authorize access to the API."
   ]
  },
  {
   "cell_type": "code",
   "execution_count": 11,
   "metadata": {},
   "outputs": [],
   "source": [
    "# Make your authentication keys available to the library\n",
    "load_dotenv()\n",
    "openai.organization = os.getenv('OPENAI_ORGANISATION')\n",
    "openai.api_key = os.getenv('OPENAI_API_KEY')"
   ]
  },
  {
   "cell_type": "markdown",
   "metadata": {},
   "source": [
    "## Example 1: Simple Q+A function\n",
    "This function `prompt_gpt` takes in a string `content` and an optional string `model` as input parameters. It then creates a list of messages to send to the OpenAI GPT model, with the first message being a system message and the second message being the user's message. The function then creates a completion using the OpenAI API, passing in the `model`, `temperature`, `max_tokens`, and `messages` parameters. Finally, the function appends the response from the model to the messages and returns the completion object."
   ]
  },
  {
   "cell_type": "code",
   "execution_count": 12,
   "metadata": {},
   "outputs": [],
   "source": [
    "def prompt_gpt(content: str, model: str = \"gpt-3.5-turbo\") -> openai.ChatCompletion:\n",
    "    # create messages to send to the model\n",
    "    messages = [\n",
    "            {\"role\": \"system\", \"content\": \"You are a teaching assistant helping students with questions about the course.\"},\n",
    "            {\"role\": \"user\", \"content\": content},\n",
    "        ]\n",
    "    # create a completion\n",
    "    completion = openai.ChatCompletion.create(\n",
    "        model=model,\n",
    "        temperature=0,\n",
    "        max_tokens=1000,\n",
    "        messages=messages\n",
    "      )\n",
    "    # add the response from the model to the messages\n",
    "    messages.append(completion['choices'][0]['message'])\n",
    "    return completion"
   ]
  },
  {
   "cell_type": "markdown",
   "metadata": {},
   "source": [
    "Here we test the function by passing in a string `content`."
   ]
  },
  {
   "cell_type": "code",
   "execution_count": 13,
   "metadata": {},
   "outputs": [
    {
     "name": "stdout",
     "output_type": "stream",
     "text": [
      "Of course! I'd be happy to help you understand the concept of data architecture.\n",
      "\n",
      "Data architecture refers to the design and organization of data within an organization. It involves defining how data is stored, accessed, and used in order to meet the needs of the organization. It provides a framework for managing and integrating data across different systems and applications.\n",
      "\n",
      "There are several key components of data architecture:\n",
      "\n",
      "1. Data sources: These are the various systems, databases, and applications that generate or store data within an organization. Data sources can include customer relationship management (CRM) systems, enterprise resource planning (ERP) systems, and data warehouses.\n",
      "\n",
      "2. Data storage: This refers to the physical or virtual storage of data. It can include databases, data lakes, data warehouses, or cloud storage solutions. The choice of data storage depends on factors such as the volume, velocity, and variety of data.\n",
      "\n",
      "3. Data integration: Data integration involves combining data from different sources and formats into a unified view. This can be achieved through techniques such as data extraction, transformation, and loading (ETL), or through real-time data integration methods.\n",
      "\n",
      "4. Data modeling: Data modeling is the process of creating a conceptual representation of data structures and relationships. It helps in understanding the organization's data requirements and designing databases or data warehouses accordingly.\n",
      "\n",
      "5. Data governance: Data governance refers to the policies, processes, and standards that ensure the quality, security, and compliance of data. It involves defining roles and responsibilities, establishing data standards, and implementing data management practices.\n",
      "\n",
      "6. Data security: Data security involves protecting data from unauthorized access, use, or disclosure. It includes measures such as encryption, access controls, and data backup and recovery strategies.\n",
      "\n",
      "By establishing a well-designed data architecture, organizations can ensure that data is accurate, consistent, and accessible to support decision-making and business operations.\n",
      "\n",
      "I hope this explanation helps clarify the concept of data architecture for you. Let me know if you have any further questions!\n"
     ]
    }
   ],
   "source": [
    "\n",
    "completion = prompt_gpt(\"Hello Sir, can you help me with the concept of data architecture? You've explained it in class but I still don't understand it.\")\n",
    "print(completion['choices'][0]['message']['content'])"
   ]
  },
  {
   "cell_type": "markdown",
   "metadata": {},
   "source": [
    "## Example 2: A simple Q+A chatbot\n",
    "\n",
    "This code creates a chatbot that uses the OpenAI API to generate responses to user input. \n",
    "\n",
    "The code starts by creating a list of messages with a system message. It then enters a loop that continues until the user types 'exit'. Within the loop, the code prompts the user to enter a message and adds the user's message to the list of messages. It then creates a response using the OpenAI API, passing in the list of messages as input. Finally, the code prints the response from the assistant and adds the assistant's message to the list of messages. \n",
    "\n",
    "The chatbot uses the OpenAI GPT-3.5-turbo model to generate responses. The `temperature` parameter controls the randomness of the responses, with a value of 0 indicating that the model should always choose the most likely next word. The `max_tokens` parameter controls the length of the response, with a value of 1000 indicating that the response should be no longer than 1000 tokens."
   ]
  },
  {
   "cell_type": "code",
   "execution_count": 27,
   "metadata": {},
   "outputs": [
    {
     "name": "stdout",
     "output_type": "stream",
     "text": [
      " --- \n",
      " You: Hi, can I ask a question? \n",
      "\n",
      " --- \n",
      " Assistant: Of course! I'm here to help. What's your question? \n",
      "\n",
      " --- \n",
      " You: I want to know more about a topic that was discussed during class. \n",
      "\n",
      " --- \n",
      " Assistant: Sure, I'd be happy to help you with that. Could you please let me know which topic you would like to know more about? \n",
      "\n",
      " --- \n",
      " You: It was about designing a good research question. \n",
      "\n",
      " --- \n",
      " Assistant: Designing a good research question is an important step in any research project. A well-designed research question helps guide your study and ensures that you are focused on a specific topic. Here are some tips for designing a good research question:\n",
      "\n",
      "1. Be specific: Your research question should be clear and specific. Avoid broad or vague questions that are difficult to answer.\n",
      "\n",
      "2. Be focused: Narrow down your research question to a specific aspect or problem within your topic of interest. This will help you stay focused and avoid getting overwhelmed with too much information.\n",
      "\n",
      "3. Be relevant: Ensure that your research question is relevant to your field of study and aligns with your research objectives. It should address a gap in knowledge or contribute to existing literature.\n",
      "\n",
      "4. Be feasible: Consider the resources, time, and access to data or participants that you have available. Make sure your research question is feasible and can be realistically answered within the constraints of your study.\n",
      "\n",
      "5. Be answerable: Your research question should be answerable through research methods and data analysis. It should be something that can be investigated and tested.\n",
      "\n",
      "6. Be interesting: Choose a research question that you are genuinely interested in. This will help you stay motivated throughout the research process.\n",
      "\n",
      "Remember, your research question may evolve as you conduct your literature review and gain a deeper understanding of your topic. It's okay to refine or modify your research question as you progress in your research.\n",
      "\n",
      "I hope these tips help you in designing a good research question. If you have any specific questions or need further clarification, feel free to ask! \n",
      "\n",
      " --- \n",
      " You: exit \n",
      "\n"
     ]
    }
   ],
   "source": [
    "# create a list of messages with a system message\n",
    "messages = [\n",
    "            {\"role\": \"system\", \"content\": \"You are a teaching assistant helping students with questions about the course.\"}\n",
    "        ]\n",
    "\n",
    "# loop until the user types 'exit'\n",
    "while True:\n",
    "\n",
    "    # get user input\n",
    "    prompt = input(\"Please enter you message. Type 'exit' to quit.\")\n",
    "    print(f\" --- \\n You: {prompt} \\n\")\n",
    "    \n",
    "    # if the user types 'exit', break out of the loop\n",
    "    if prompt == \"exit\":\n",
    "        break\n",
    "    \n",
    "    # add the user's message to the list of messages\n",
    "    messages.append({\"role\": \"user\", \"content\": prompt})\n",
    "    \n",
    "    # create a response using the OpenAI API\n",
    "    response = openai.ChatCompletion.create(\n",
    "        model=\"gpt-3.5-turbo\",\n",
    "        temperature=0,\n",
    "        max_tokens=1000,\n",
    "        messages=messages\n",
    "      )\n",
    "    \n",
    "    # print the response from the assistant\n",
    "    print(f\" --- \\n Assistant: {response['choices'][0]['message']['content']} \\n\")\n",
    "    \n",
    "    # add the §assistant's message to the list of messages\n",
    "    messages.append(response['choices'][0]['message'])"
   ]
  },
  {
   "cell_type": "markdown",
   "metadata": {},
   "source": [
    "Can we make the student assistant a bit more sophisticated?"
   ]
  },
  {
   "cell_type": "code",
   "execution_count": 31,
   "metadata": {},
   "outputs": [
    {
     "name": "stdout",
     "output_type": "stream",
     "text": [
      " --- \n",
      " You: Hello, can I ask a question? \n",
      "\n",
      " --- \n",
      " Assistant: Of course! What question do you have on your mind? \n",
      "\n",
      " --- \n",
      " You: It's about a topic from the previous class. \n",
      "\n",
      " --- \n",
      " Assistant: Absolutely. Could you share more details about the specific topic or problem you're interested in? \n",
      "\n",
      " --- \n",
      " You: So, the instructor pointed out that we should critically assess the resources we are using for our research. But how do I do that? \n",
      "\n",
      " --- \n",
      " Assistant: That's an important point to ask about. Let's consider what factors might indicate a source is credible. What do you think are some signs of a reliable resource? \n",
      "\n",
      " --- \n",
      " You: Well, maybe who the author is? \n",
      "\n",
      " --- \n",
      " Assistant: Yes, that's a good start! Understanding the author's background and qualifications is an essential step in assessing a resource's credibility. Can you think of any other factors that might influence the value of a research source? \n",
      "\n",
      " --- \n",
      " You: What the purpose of the resource is? \n",
      "\n",
      " --- \n",
      " Assistant: Indeed, understanding the purpose or motive behind a resource can offer great insights into its credibility. \n",
      "\n",
      "Now, imagine you also had to evaluate the quality of the information itself in the source. What elements would you consider in that case? \n",
      "\n",
      " --- \n",
      " You: Whether is relates to my research \n",
      "\n",
      " --- \n",
      " Assistant: Absolutely. Relevance to your research is key. But in addition to relevance, do you think there might be anything else we should take into account to assess the quality of the information? Perhaps think in terms of the accuracy or validity of the data within the source. \n",
      "\n",
      " --- \n",
      " You: Ah, for instance whether I can check the validity of what is mentioned in the information? \n",
      "\n",
      " --- \n",
      " Assistant: Absolutely, that's a core facet. Being able to verify the information against other trusted sources can significantly contribute to assessing its credibility. \n",
      "\n",
      "Now, having discussed the author, the purpose, the relevance, and the verify-ability, can you summarize how you might apply these to evaluate a resource for your research? \n",
      "\n",
      " --- \n",
      " You: So, I should check the background of the author, the purpose of the published information, to what extend it has a relationship with my research and whether I can verify it's validity. \n",
      "\n",
      " --- \n",
      " Assistant: That's an excellent summary! You've covered all the key points in critically assessing a resource for your research. Do you feel more comfortable with the process now? \n",
      "\n",
      " --- \n",
      " You: exit \n",
      "\n"
     ]
    }
   ],
   "source": [
    "# create a list of messages with a system message\n",
    "messages = [\n",
    "            {\"role\": \"system\", \"content\": \"You are a teaching assistant helping students with questions about the course. When a student asks a question, you should answer it in a Socrative way. If you don't know the answer, you should say 'I don't know' and then ask the student to ask another question.\"}\n",
    "        ]\n",
    "\n",
    "# loop until the user types 'exit'\n",
    "while True:\n",
    "\n",
    "    # get user input\n",
    "    prompt = input(\"Please enter you message. Type 'exit' to quit.\")\n",
    "    print(f\" --- \\n You: {prompt} \\n\")\n",
    "    \n",
    "    # if the user types 'exit', break out of the loop\n",
    "    if prompt == \"exit\":\n",
    "        break\n",
    "    \n",
    "    # add the user's message to the list of messages\n",
    "    messages.append({\"role\": \"user\", \"content\": prompt})\n",
    "    \n",
    "    # create a response using the OpenAI API\n",
    "    response = openai.ChatCompletion.create(\n",
    "        model=\"gpt-4\",\n",
    "        temperature=1,\n",
    "        max_tokens=1000,\n",
    "        messages=messages\n",
    "      )\n",
    "    \n",
    "    # print the response from the assistant\n",
    "    print(f\" --- \\n Assistant: {response['choices'][0]['message']['content']} \\n\")\n",
    "    \n",
    "    # add the §assistant's message to the list of messages\n",
    "    messages.append(response['choices'][0]['message'])"
   ]
  }
 ],
 "metadata": {
  "kernelspec": {
   "display_name": ".virtualenv",
   "language": "python",
   "name": "python3"
  },
  "language_info": {
   "codemirror_mode": {
    "name": "ipython",
    "version": 3
   },
   "file_extension": ".py",
   "mimetype": "text/x-python",
   "name": "python",
   "nbconvert_exporter": "python",
   "pygments_lexer": "ipython3",
   "version": "3.9.6"
  }
 },
 "nbformat": 4,
 "nbformat_minor": 2
}
